{
 "cells": [
  {
   "cell_type": "markdown",
   "metadata": {
    "id": "OZY3ZoxyTuvH"
   },
   "source": [
    "# Lab Homework 5: Neural Network Interpretability\n",
    "### 15 points total\n",
    "### Version 1.0 (November 1, 2020)\n",
    "\n"
   ]
  },
  {
   "cell_type": "markdown",
   "metadata": {
    "id": "lH5liNkKT_yX"
   },
   "source": [
    "NAME (JHED)"
   ]
  },
  {
   "cell_type": "markdown",
   "metadata": {
    "id": "x7GPEDAwUBBF"
   },
   "source": [
    "**Instructions:**\n",
    "In this notebook you will explore the performance and interpretability of the *Best* model from the programming assingment (you will see <font color='blue'>TODO</font> annotations for where to include your answers). For this lab, **you will need the models from your HW5 programming assignment**. At the beginning of each part, we will bullet the expected deliverables for you to complete. All questions can be answered in 1-4 sentences, unless otherwise noted.\n",
    "\n",
    "\n",
    "\n",
    "*   This is an **individual** lab assignment, as it relies on models from programming assignment. **You may not work with a partner for this part of the assignment**.\n",
    "*   For this assignment, you will need to either upload the data files, data.py and models to your google drive, or work in this notebook locally with jupyter."
   ]
  },
  {
   "cell_type": "markdown",
   "metadata": {
    "id": "3nW9DRZzf4Pb"
   },
   "source": [
    "## Part 0: Load data and models\n",
    "\n",
    "Once you have completed or partially completed the programming part of the assignment, you will need to load the data, models and log files of your models.\n",
    "\n",
    "You can run this notebook on a) google colab, b) the CS undergrad or graduate grid, or your local machine."
   ]
  },
  {
   "cell_type": "markdown",
   "metadata": {
    "id": "EEU1BQ1pg_s9"
   },
   "source": [
    "#### a) Using Google Colab\n",
    "\n",
    "If you have enough space in your drive, you can upload all the files necessary to this assignment to your google drive and access them with your colab notebook.\n",
    "\n",
    "\n",
    "> While you could train your models and do hyperparameters sweeps on google colab, we do not recommend it as sessions are time limited and your session might terminate before models can be saved.\n",
    "\n",
    "\n"
   ]
  },
  {
   "cell_type": "markdown",
   "metadata": {
    "id": "VSXRyvSRi_LC"
   },
   "source": [
    "In order to access files you have uploaded to your Google Drive, you need to \"mount\" the drive to your google colab session. You can do so with the following code"
   ]
  },
  {
   "cell_type": "code",
   "execution_count": null,
   "metadata": {
    "id": "uCi6i6PZi3hX"
   },
   "outputs": [],
   "source": [
    "# Load the Drive helper and mount\n",
    "\n",
    "from google.colab import drive\n",
    "drive.mount('/content/drive')"
   ]
  },
  {
   "cell_type": "markdown",
   "metadata": {
    "id": "SrULalRXiwkG"
   },
   "source": [
    "#### b) Local Machine or Grid: Jupyter Notebook or Lab\n",
    "\n",
    "Otherwise, you can download this notebook and run it in your local directory of the programming assignment, or on the CS grid. You will need to have set up either [jupyter notebook](https://jupyter.readthedocs.io/en/latest/install/notebook-classic.html) or [lab](https://jupyterlab.readthedocs.io/en/stable/getting_started/installation.html)."
   ]
  },
  {
   "cell_type": "markdown",
   "metadata": {
    "id": "cqbI4l4MZnei"
   },
   "source": [
    "#### 1) Load the data. Is the task feasible given the data? That is, can a human (you) accurately classify this data? Based on these few examples, can you think of problems your model may have when classifiying?\n",
    "\n",
    "Let's load the data and visualize some of our data points. This will also help you debug whether you can access your files on the drive (if you chose option *a*). Since the dataset we're working on is a vision dataset, we can actually look at our data as images.\n",
    "\n",
    "Let's take a look at one example for each label that we have."
   ]
  },
  {
   "cell_type": "code",
   "execution_count": 1,
   "metadata": {
    "id": "Udud0VOOZYYe"
   },
   "outputs": [],
   "source": [
    "# imports\n",
    "from collections import defaultdict\n",
    "import numpy as np\n",
    "import matplotlib.pyplot as plt\n",
    "%matplotlib inline"
   ]
  },
  {
   "cell_type": "code",
   "execution_count": 2,
   "metadata": {
    "id": "MxAlJb9Umxp3"
   },
   "outputs": [],
   "source": [
    "def load(path, split, load_labels=True):\n",
    "    if load_labels:\n",
    "        labels = np.load(f'{path}/{split}.labels.npy')\n",
    "    else:\n",
    "        labels = None\n",
    "    data = np.load(f'{path}/{split}.feats.npy')\n",
    "    return data, labels"
   ]
  },
  {
   "cell_type": "code",
   "execution_count": 12,
   "metadata": {},
   "outputs": [
    {
     "data": {
      "text/plain": [
       "'/Users/yuetongliu/Desktop/ML/HW/HW5/Program/hw5_code_and_data'"
      ]
     },
     "execution_count": 12,
     "metadata": {},
     "output_type": "execute_result"
    }
   ],
   "source": [
    "import os\n",
    "os.getcwd()\n",
    "os.chdir(\"/Users/yuetongliu/Desktop/ML/HW/HW5/Program/hw5_code_and_data/\")\n",
    "os.getcwd()"
   ]
  },
  {
   "cell_type": "code",
   "execution_count": 4,
   "metadata": {
    "id": "7SFfUswjXWKS"
   },
   "outputs": [],
   "source": [
    "#######################################################\n",
    "# TODO: Load data and visualize example images. \n",
    "\n",
    "#######################################################\n",
    "\n",
    "### Students Start\n",
    "data, labels = load(\"Program/hw5_code_and_data/data\", split='train') # Make this point to the correct data directory.\n",
    "dev_data, dev_labels = load(\"Program/hw5_code_and_data/data\", split='dev') # Make this point to the correct data directory. \n",
    "### Students End"
   ]
  },
  {
   "cell_type": "code",
   "execution_count": 5,
   "metadata": {
    "id": "WZd9NJgVZpFM"
   },
   "outputs": [
    {
     "data": {
      "image/png": "[encoded data removed]",
      "text/plain": [
       "<Figure size 432x288 with 1 Axes>"
      ]
     },
     "metadata": {
      "needs_background": "light"
     },
     "output_type": "display_data"
    },
    {
     "data": {
      "image/png": "[encoded data removed]",
      "text/plain": [
       "<Figure size 432x288 with 1 Axes>"
      ]
     },
     "metadata": {
      "needs_background": "light"
     },
     "output_type": "display_data"
    },
    {
     "data": {
      "image/png": "[encoded data removed]",
      "text/plain": [
       "<Figure size 432x288 with 1 Axes>"
      ]
     },
     "metadata": {
      "needs_background": "light"
     },
     "output_type": "display_data"
    },
    {
     "data": {
      "image/png": "[encoded data removed]",
      "text/plain": [
       "<Figure size 432x288 with 1 Axes>"
      ]
     },
     "metadata": {
      "needs_background": "light"
     },
     "output_type": "display_data"
    },
    {
     "data": {
      "image/png": "[encoded data removed]",
      "text/plain": [
       "<Figure size 432x288 with 1 Axes>"
      ]
     },
     "metadata": {
      "needs_background": "light"
     },
     "output_type": "display_data"
    },
    {
     "data": {
      "image/png": "[encoded data removed]",
      "text/plain": [
       "<Figure size 432x288 with 1 Axes>"
      ]
     },
     "metadata": {
      "needs_background": "light"
     },
     "output_type": "display_data"
    },
    {
     "data": {
      "image/png": "[encoded data removed]",
      "text/plain": [
       "<Figure size 432x288 with 1 Axes>"
      ]
     },
     "metadata": {
      "needs_background": "light"
     },
     "output_type": "display_data"
    },
    {
     "data": {
      "image/png": "[encoded data removed]",
      "text/plain": [
       "<Figure size 432x288 with 1 Axes>"
      ]
     },
     "metadata": {
      "needs_background": "light"
     },
     "output_type": "display_data"
    }
   ],
   "source": [
    "#######################################################\n",
    "# TODO: Plot some examples of the data \n",
    "\n",
    "#######################################################\n",
    "\n",
    "for label in range(8):\n",
    "    for i in range(len(labels)):\n",
    "        if int(labels[i]) == label:\n",
    "            label_idx = i\n",
    "            break\n",
    "    plt.figure()\n",
    "    plt.title(f\"Label: {label}\")\n",
    "    ex = np.array(data[label_idx], dtype=float)\n",
    "    plt.imshow(ex.reshape((28,28)))"
   ]
  },
  {
   "cell_type": "markdown",
   "metadata": {
    "id": "J067hhoXZs5w"
   },
   "source": [
    "<font color='blue'>\n",
    "    The task is feasible.The model could misclassify samples look similar, such as apple and basketball.\n",
    "</font>"
   ]
  },
  {
   "cell_type": "markdown",
   "metadata": {
    "id": "0xXv58QzaQNi"
   },
   "source": [
    "## Interpretability: How are the models wrong?\n",
    "\n",
    "During break-out rooms we have explored interpretability and explainability and using them to explore ethical considerations of our approaches. In this section, you will explore the image [LIME implementation](https://colab.research.google.com/github/arteagac/arteagac.github.io/blob/master/blog/lime_image.ipynb#scrollTo=eF3nyAc2i-Nt) that was discussed in break-out rooms. \n",
    "\n",
    "Things to do in this part:\n",
    "\n",
    "\n",
    "1.   Implement LIME\n",
    "2.   Explore wrongly classified examples"
   ]
  },
  {
   "cell_type": "markdown",
   "metadata": {
    "id": "uKxy-iY0y1bR"
   },
   "source": [
    "#### 2) Plot images that your model misclassified. Load your best model, and plot examples that are wrong in your dev set. Can you notice any trends?\n",
    "\n",
    "Save some of these images, we will use them later."
   ]
  },
  {
   "cell_type": "code",
   "execution_count": 18,
   "metadata": {
    "id": "lvFqL8vlzMX6"
   },
   "outputs": [
    {
     "data": {
      "text/plain": [
       "array([0, 1, 4, ..., 0, 1, 7])"
      ]
     },
     "execution_count": 18,
     "metadata": {},
     "output_type": "execute_result"
    }
   ],
   "source": [
    "#######################################################\n",
    "# TODO: Load model, predict dev set, and explore\n",
    "#       images that your model misclisified. \n",
    "\n",
    "#######################################################\n",
    "\n",
    "import torch\n",
    "\n",
    "model = torch.load(\"models/best.torch\")\n",
    "#model\n",
    "## predict labels for dev set\n",
    "preds = []\n",
    "for test_ex in dev_data:\n",
    "    x = torch.from_numpy(test_ex.astype(np.float32))\n",
    "    # Make the x look like it's in a batch of size 1\n",
    "    x = x.view(1, -1)\n",
    "    logits = model(x)\n",
    "    pred = torch.max(logits, 1)[1]\n",
    "    preds.append(pred.item())\n",
    "    #print(f'Done making predictions! Storing them in {args.predictions_file}')\n",
    "preds = np.array(preds)\n",
    "    #np.savetxt(args.predictions_file, preds, fmt='%d')\n",
    "preds  \n"
   ]
  },
  {
   "cell_type": "code",
   "execution_count": 25,
   "metadata": {},
   "outputs": [
    {
     "data": {
      "image/png": "[encoded data removed]",
      "text/plain": [
       "<Figure size 432x288 with 1 Axes>"
      ]
     },
     "metadata": {
      "needs_background": "light"
     },
     "output_type": "display_data"
    },
    {
     "data": {
      "image/png": "[encoded data removed]",
      "text/plain": [
       "<Figure size 432x288 with 1 Axes>"
      ]
     },
     "metadata": {
      "needs_background": "light"
     },
     "output_type": "display_data"
    },
    {
     "data": {
      "image/png": "[encoded data removed]",
      "text/plain": [
       "<Figure size 432x288 with 1 Axes>"
      ]
     },
     "metadata": {
      "needs_background": "light"
     },
     "output_type": "display_data"
    },
    {
     "data": {
      "image/png": "[encoded data removed]",
      "text/plain": [
       "<Figure size 432x288 with 1 Axes>"
      ]
     },
     "metadata": {
      "needs_background": "light"
     },
     "output_type": "display_data"
    },
    {
     "data": {
      "image/png": "[encoded data removed]",
      "text/plain": [
       "<Figure size 432x288 with 1 Axes>"
      ]
     },
     "metadata": {
      "needs_background": "light"
     },
     "output_type": "display_data"
    },
    {
     "data": {
      "image/png": "[encoded data removed]",
      "text/plain": [
       "<Figure size 432x288 with 1 Axes>"
      ]
     },
     "metadata": {
      "needs_background": "light"
     },
     "output_type": "display_data"
    },
    {
     "data": {
      "image/png": "[encoded data removed]",
      "text/plain": [
       "<Figure size 432x288 with 1 Axes>"
      ]
     },
     "metadata": {
      "needs_background": "light"
     },
     "output_type": "display_data"
    },
    {
     "data": {
      "image/png": "[encoded data removed]",
      "text/plain": [
       "<Figure size 432x288 with 1 Axes>"
      ]
     },
     "metadata": {
      "needs_background": "light"
     },
     "output_type": "display_data"
    },
    {
     "data": {
      "image/png": "[encoded data removed]",
      "text/plain": [
       "<Figure size 432x288 with 1 Axes>"
      ]
     },
     "metadata": {
      "needs_background": "light"
     },
     "output_type": "display_data"
    },
    {
     "data": {
      "image/png": "[encoded data removed]",
      "text/plain": [
       "<Figure size 432x288 with 1 Axes>"
      ]
     },
     "metadata": {
      "needs_background": "light"
     },
     "output_type": "display_data"
    }
   ],
   "source": [
    "## Select examples that your model misclassified\n",
    "mis_data = dev_data[dev_labels != preds]\n",
    "right_label = dev_labels[dev_labels != preds]\n",
    "wrong_label = preds[dev_labels != preds]\n",
    "## plot some examples\n",
    "for i in range(10):\n",
    "    plt.figure()\n",
    "    plt.title(f\"True: {right_label[i]} Predict: {wrong_label[i]}\")\n",
    "    ex = np.array(data[i], dtype=float)\n",
    "    plt.imshow(ex.reshape((28,28)))"
   ]
  },
  {
   "cell_type": "markdown",
   "metadata": {
    "id": "xMsQGgLrp9MO"
   },
   "source": [
    "#### 3) Implement image LIME\n",
    "\n",
    "In one of our break-out rooms, we explored Image LIME (an implementation and detailed explanation of Image LIME can be found in [this notebook](https://colab.research.google.com/github/arteagac/arteagac.github.io/blob/master/blog/lime_image.ipynb#scrollTo=eF3nyAc2i-Nt) or this ipynb file.). Your task is to study this notebook, and adapt the implementation so that it works with our dataset and your models.\n",
    "\n",
    "\n"
   ]
  },
  {
   "cell_type": "code",
   "execution_count": 30,
   "metadata": {
    "id": "IJOyj9U9B3Gr"
   },
   "outputs": [],
   "source": [
    "import skimage.io \n",
    "import skimage.segmentation\n",
    "import copy\n",
    "import sklearn\n",
    "import sklearn.metrics\n",
    "from sklearn.linear_model import LinearRegression\n",
    "\n",
    "def perturb_image(img, perturbation, segments):\n",
    "    ## Implementation should be very similar to notebook,\n",
    "    ## Make sure you keep in mind the shape of the mask!\n",
    "    # raise NotImplementedError()\n",
    "    active_pixels = np.where(perturbation == 1)[0]\n",
    "    mask = np.zeros(segments.shape)\n",
    "    for active in active_pixels:\n",
    "            mask[segments == active] = 1 \n",
    "    perturbed_image = copy.deepcopy(img)\n",
    "    perturbed_image = perturbed_image*mask[:,:,np.newaxis]\n",
    "    return perturbed_image\n",
    "\n",
    "\n",
    "def plot_explanation(img, classes, num_top_feat=4):\n",
    "    ## Step 1: Create Perturbations\n",
    "    ##   - Keep in mind the shape of our images (28x28)\n",
    "    ##   - Keep in mind that our images are grayscale (not RGB!)\n",
    "    ##   - We will use segmentation.slic rather than segmentation.quickshift (make sure to use convert2lab=False)\n",
    "    ##   - Play around with n_segments\n",
    "    \n",
    "    superpixels = skimage.segmentation.slic(img.reshape(28,28), n_segments=20, convert2lab=False)\n",
    "    num_superpixels = np.unique(superpixels).shape[0]\n",
    "    \n",
    "    num_perturb = 150\n",
    "    perturbations = np.random.binomial(1, 0.5, size=(num_perturb, num_superpixels))\n",
    "\n",
    "\n",
    "\n",
    "    ## Step 2: Use model to classify perturbations\n",
    "    ##   - This is where you use function perturb_image()\n",
    "    ##   - Remember the input shape of your model: must be vectors of length 784\n",
    "    #superpixels = skimage.segmentation.quickshift(Xi, kernel_size=4,max_dist=200, ratio=0.2)\n",
    "    \n",
    "    predictions = []\n",
    "    for pert in perturbations:\n",
    "        perturbed_img = perturb_image(Xi,pert,superpixels)\n",
    "        pred = inceptionV3_model.predict(perturbed_img[np.newaxis,:,:,:])\n",
    "        predictions.append(pred)\n",
    "    \n",
    "    predictions = np.array(predictions)\n",
    "\n",
    "\n",
    "\n",
    "    ## Step 3: Compute distances and weights\n",
    "    ##   - Not much to change from the notebook\n",
    "    original_image = np.ones(num_superpixels)[np.newaxis,:] #Perturbation with all superpixels enabled \n",
    "    distances = sklearn.metrics.pairwise_distances(perturbations,original_image, metric='cosine').ravel()\n",
    "    kernel_width = 0.25\n",
    "    weights = np.sqrt(np.exp(-(distances**2)/kernel_width**2)) #Kernel function\n",
    "\n",
    "\n",
    "\n",
    "    ## Step 4: Fit linear classifier\n",
    "    ##   - Train a LinearRegression classifier (x= perturbations, y=logits of your model for the `class`)\n",
    "    simpler_model = LinearRegression()\n",
    "    simpler_model.fit(X=perturbations, y=predictions[:,:,classes], sample_weight=weights)\n",
    "    coeff = simpler_model.coef_[0]\n",
    "    top_features = np.argsort(coeff)[-num_top_feat:] \n",
    "\n",
    "\n",
    "    ## Step 5: Plot LIME Explanation\n",
    "    mask = np.zeros(num_superpixels) \n",
    "    mask[top_features]= True #Activate top superpixels\n",
    "    temp_img = img.reshape((28,28)).detach().numpy()\n",
    "    skimage.io.imshow(perturb_image(temp_img,mask,superpixels),cmap='gray')\n"
   ]
  },
  {
   "cell_type": "markdown",
   "metadata": {
    "id": "TWI6Pk1EqCBr"
   },
   "source": [
    "#### 4) Explore errors. With image explanations backing your claims, explain 3 errors that your model makes on the dev set.\n",
    "\n",
    "You are welcome to be creative in how you use the functions from the previous question (e.g. for an error image, look at the class the model thought it was and compare to the explanation for what the class should be)"
   ]
  },
  {
   "cell_type": "code",
   "execution_count": 33,
   "metadata": {
    "id": "8IXSFUCbaU6p"
   },
   "outputs": [
    {
     "ename": "NameError",
     "evalue": "name 'Xi' is not defined",
     "output_type": "error",
     "traceback": [
      "\u001b[0;31m---------------------------------------------------------------------------\u001b[0m",
      "\u001b[0;31mNameError\u001b[0m                                 Traceback (most recent call last)",
      "\u001b[0;32m<ipython-input-33-d64ab7e560af>\u001b[0m in \u001b[0;36m<module>\u001b[0;34m\u001b[0m\n\u001b[1;32m      1\u001b[0m \u001b[0;31m#######################################################\u001b[0m\u001b[0;34m\u001b[0m\u001b[0;34m\u001b[0m\u001b[0;34m\u001b[0m\u001b[0m\n\u001b[1;32m      2\u001b[0m \u001b[0;31m# TODO: Plot examples and show evidence for your explanations for error 1\u001b[0m\u001b[0;34m\u001b[0m\u001b[0;34m\u001b[0m\u001b[0;34m\u001b[0m\u001b[0m\n\u001b[0;32m----> 3\u001b[0;31m \u001b[0mplot_explanation\u001b[0m\u001b[0;34m(\u001b[0m\u001b[0mmis_data\u001b[0m\u001b[0;34m[\u001b[0m\u001b[0;36m0\u001b[0m\u001b[0;34m]\u001b[0m\u001b[0;34m,\u001b[0m \u001b[0;36m0\u001b[0m\u001b[0;34m,\u001b[0m \u001b[0mnum_top_feat\u001b[0m\u001b[0;34m=\u001b[0m\u001b[0;36m4\u001b[0m\u001b[0;34m)\u001b[0m\u001b[0;34m\u001b[0m\u001b[0;34m\u001b[0m\u001b[0m\n\u001b[0m\u001b[1;32m      4\u001b[0m \u001b[0;31m#######################################################\u001b[0m\u001b[0;34m\u001b[0m\u001b[0;34m\u001b[0m\u001b[0;34m\u001b[0m\u001b[0m\n",
      "\u001b[0;32m<ipython-input-30-7d581ed219d4>\u001b[0m in \u001b[0;36mplot_explanation\u001b[0;34m(img, classes, num_top_feat)\u001b[0m\n\u001b[1;32m     37\u001b[0m     \u001b[0;31m##   - This is where you use function perturb_image()\u001b[0m\u001b[0;34m\u001b[0m\u001b[0;34m\u001b[0m\u001b[0;34m\u001b[0m\u001b[0m\n\u001b[1;32m     38\u001b[0m     \u001b[0;31m##   - Remember the input shape of your model: must be vectors of length 784\u001b[0m\u001b[0;34m\u001b[0m\u001b[0;34m\u001b[0m\u001b[0;34m\u001b[0m\u001b[0m\n\u001b[0;32m---> 39\u001b[0;31m     \u001b[0msuperpixels\u001b[0m \u001b[0;34m=\u001b[0m \u001b[0mskimage\u001b[0m\u001b[0;34m.\u001b[0m\u001b[0msegmentation\u001b[0m\u001b[0;34m.\u001b[0m\u001b[0mquickshift\u001b[0m\u001b[0;34m(\u001b[0m\u001b[0mXi\u001b[0m\u001b[0;34m,\u001b[0m \u001b[0mkernel_size\u001b[0m\u001b[0;34m=\u001b[0m\u001b[0;36m4\u001b[0m\u001b[0;34m,\u001b[0m\u001b[0mmax_dist\u001b[0m\u001b[0;34m=\u001b[0m\u001b[0;36m200\u001b[0m\u001b[0;34m,\u001b[0m \u001b[0mratio\u001b[0m\u001b[0;34m=\u001b[0m\u001b[0;36m0.2\u001b[0m\u001b[0;34m)\u001b[0m\u001b[0;34m\u001b[0m\u001b[0;34m\u001b[0m\u001b[0m\n\u001b[0m\u001b[1;32m     40\u001b[0m \u001b[0;34m\u001b[0m\u001b[0m\n\u001b[1;32m     41\u001b[0m     \u001b[0mpredictions\u001b[0m \u001b[0;34m=\u001b[0m \u001b[0;34m[\u001b[0m\u001b[0;34m]\u001b[0m\u001b[0;34m\u001b[0m\u001b[0;34m\u001b[0m\u001b[0m\n",
      "\u001b[0;31mNameError\u001b[0m: name 'Xi' is not defined"
     ]
    }
   ],
   "source": [
    "#######################################################\n",
    "# TODO: Plot examples and show evidence for your explanations for error 1\n",
    "plot_explanation(mis_data[0], 0, num_top_feat=4)\n",
    "#######################################################"
   ]
  },
  {
   "cell_type": "code",
   "execution_count": 27,
   "metadata": {
    "id": "VezMJKYJuvlx"
   },
   "outputs": [],
   "source": [
    "#######################################################\n",
    "# TODO: Plot examples and show evidence for your explanations for error 2\n",
    "\n",
    "#######################################################"
   ]
  },
  {
   "cell_type": "code",
   "execution_count": null,
   "metadata": {
    "id": "K_GJ5EwAuwKV"
   },
   "outputs": [],
   "source": [
    "#######################################################\n",
    "# TODO: Plot examples and show evidence for your explanations for error 3\n",
    "\n",
    "#######################################################"
   ]
  },
  {
   "cell_type": "markdown",
   "metadata": {
    "id": "NjAbfXvyrUoC"
   },
   "source": [
    "<font color='blue'>\n",
    "    TODO: replace this cell with your answer\n",
    "</font>"
   ]
  },
  {
   "cell_type": "markdown",
   "metadata": {
    "id": "0uAW4HoNrBhT"
   },
   "source": [
    "#### 5) Would you feel confident deploying a version of your model? How would better interpretability help you make ethical decisions about using your data/model?"
   ]
  },
  {
   "cell_type": "markdown",
   "metadata": {
    "id": "cDKENtewrYmN"
   },
   "source": [
    "<font color='blue'>\n",
    "    TODO: replace this cell with your answer\n",
    "</font>"
   ]
  }
 ],
 "metadata": {
  "colab": {
   "collapsed_sections": [],
   "name": "CS475_Homework5_lab.ipynb",
   "provenance": []
  },
  "kernelspec": {
   "display_name": "Python 3",
   "language": "python",
   "name": "python3"
  },
  "language_info": {
   "codemirror_mode": {
    "name": "ipython",
    "version": 3
   },
   "file_extension": ".py",
   "mimetype": "text/x-python",
   "name": "python",
   "nbconvert_exporter": "python",
   "pygments_lexer": "ipython3",
   "version": "3.8.3"
  }
 },
 "nbformat": 4,
 "nbformat_minor": 1
}
